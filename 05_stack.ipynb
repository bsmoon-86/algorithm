{
 "cells": [
  {
   "cell_type": "markdown",
   "id": "8b430697",
   "metadata": {},
   "source": [
    "# 스택 \n",
    "- 데이터를 임시 저장하는 기본 자료 구조\n",
    "- 데이터의 입력과 출력 순서는 후입선출(LIFO) 방식을 사용\n",
    "    - LIFO\n",
    "        - 가장 나중에 넣은 데이터를 가장 먼저 꺼내는 방식\n",
    "        - 데이터를 1, 2, 3를 순서로 넣어준다면 꺼낼때는 3, 2, 1 순서로 데이터를 출력\n",
    "    - 푸시(push)\n",
    "        - 스택에 데이터를 대입하는 작업\n",
    "    - 팝(pop)\n",
    "        - 스택에서 데이터를 꺼내는 작업"
   ]
  },
  {
   "cell_type": "code",
   "execution_count": 1,
   "id": "79d95ddd",
   "metadata": {},
   "outputs": [],
   "source": [
    "from typing import Any"
   ]
  },
  {
   "cell_type": "code",
   "execution_count": 4,
   "id": "59d3312b",
   "metadata": {},
   "outputs": [],
   "source": [
    "class FixedStack:\n",
    "    # 고정길이의 스택을 생성\n",
    "\n",
    "    class Empty(Exception):\n",
    "        # 비어있는 스택에서 데이터를 꺼내거나 데이터를 조회할때 호출하는 예외 처리 \n",
    "        pass\n",
    "    \n",
    "    class Full(Exception):\n",
    "        # 가득 찬 스택에 데이터를 추가하는 경우 호출하는 예외 처리 \n",
    "        pass\n",
    "\n",
    "    # 생성자 함수\n",
    "    def __init__(self, capacity : int = 256) -> None:\n",
    "        # 스택의 크기\n",
    "        self.capacity = capacity\n",
    "        # 스택의 배열 데이터\n",
    "        self.stk = [None] * self.capacity\n",
    "        # 스택의 포인터\n",
    "        self.ptr = 0\n",
    "    \n",
    "    # 스택의 길이를 출력하는 함수 \n",
    "    def __len__(self) -> int:\n",
    "        return self.ptr\n",
    "\n",
    "    # 스택에 데이터가 비어있는가? 함수 생성\n",
    "    def is_empty(self) -> bool:\n",
    "        # 데이터가 비어있는 조건은 포인터가 0인 경우\n",
    "        return self.ptr <= 0\n",
    "    \n",
    "    # 스택에 데이터가 가득 차있는가? 함수 생성\n",
    "    def is_full(self) -> bool:\n",
    "        # 데이터가 가득찬 조건 포인터가 스택의 크기와 같은 경우\n",
    "        return self.ptr >= self.capacity\n",
    "\n",
    "    # 데이터를 대입하는 함수를 생성\n",
    "    def push(self, value : Any) -> None:\n",
    "        # 스택에 데이터가 가득 차있는가?\n",
    "        if self.is_full():\n",
    "            # raise는 예외 처리\n",
    "            raise FixedStack.Full\n",
    "        # 가득 차지 않은 경우\n",
    "        self.stk[self.ptr] = value\n",
    "        # 대입이 완료한 뒤 포인터를 1 증가 시킨다\n",
    "        self.ptr += 1\n",
    "    \n",
    "    # 데이터를 추출하는 함수 생성\n",
    "    def pop(self) -> Any:\n",
    "        # 데이터를 추출할때 데이터가 비어있다면 예외\n",
    "        if self.is_empty():\n",
    "            raise FixedStack.Empty\n",
    "        # 포인터를 1 감소시킨다. \n",
    "        self.ptr -= 1\n",
    "        return self.stk[self.ptr]\n",
    "        # self.stk의 배열 안에 원소를 None으로 변경하지 않는다. \n",
    "        # 포인터의 값을 기준으로 데이터를 확인하기때문에 배열 안에 원소를 변경할 필요가 없다.\n",
    "        \n",
    "    # 스택의 전체 데이터를 확인하는 함수\n",
    "    def dump(self) -> None:\n",
    "        # 스택에서 바닥부터 꼭대기까지의 데이터를 모두 확인하는 함수 \n",
    "        if self.is_empty():\n",
    "            print('스택이 비어있습니다.')\n",
    "        else:\n",
    "            print(self.stk[ : self.ptr])\n",
    "        \n",
    "\n"
   ]
  },
  {
   "cell_type": "code",
   "execution_count": 5,
   "id": "749058df",
   "metadata": {},
   "outputs": [],
   "source": [
    "# stack class를 생성 \n",
    "test_stack = FixedStack(20)"
   ]
  },
  {
   "cell_type": "code",
   "execution_count": null,
   "id": "21103fe3",
   "metadata": {},
   "outputs": [
    {
     "ename": "Empty",
     "evalue": "",
     "output_type": "error",
     "traceback": [
      "\u001b[1;31m---------------------------------------------------------------------------\u001b[0m",
      "\u001b[1;31mEmpty\u001b[0m                                     Traceback (most recent call last)",
      "Cell \u001b[1;32mIn[6], line 2\u001b[0m\n\u001b[0;32m      1\u001b[0m \u001b[38;5;66;03m# 비어있는 스택에서 pop을 사용\u001b[39;00m\n\u001b[1;32m----> 2\u001b[0m \u001b[43mtest_stack\u001b[49m\u001b[38;5;241;43m.\u001b[39;49m\u001b[43mpop\u001b[49m\u001b[43m(\u001b[49m\u001b[43m)\u001b[49m\n",
      "Cell \u001b[1;32mIn[4], line 50\u001b[0m, in \u001b[0;36mFixedStack.pop\u001b[1;34m(self)\u001b[0m\n\u001b[0;32m     47\u001b[0m \u001b[38;5;28;01mdef\u001b[39;00m \u001b[38;5;21mpop\u001b[39m(\u001b[38;5;28mself\u001b[39m) \u001b[38;5;241m-\u001b[39m\u001b[38;5;241m>\u001b[39m Any:\n\u001b[0;32m     48\u001b[0m     \u001b[38;5;66;03m# 데이터를 추출할때 데이터가 비어있다면 예외\u001b[39;00m\n\u001b[0;32m     49\u001b[0m     \u001b[38;5;28;01mif\u001b[39;00m \u001b[38;5;28mself\u001b[39m\u001b[38;5;241m.\u001b[39mis_empty():\n\u001b[1;32m---> 50\u001b[0m         \u001b[38;5;28;01mraise\u001b[39;00m FixedStack\u001b[38;5;241m.\u001b[39mEmpty\n\u001b[0;32m     51\u001b[0m     \u001b[38;5;66;03m# 포인터를 1 감소시킨다. \u001b[39;00m\n\u001b[0;32m     52\u001b[0m     \u001b[38;5;28mself\u001b[39m\u001b[38;5;241m.\u001b[39mptr \u001b[38;5;241m-\u001b[39m\u001b[38;5;241m=\u001b[39m \u001b[38;5;241m1\u001b[39m\n",
      "\u001b[1;31mEmpty\u001b[0m: "
     ]
    }
   ],
   "source": [
    "# 비어있는 스택에서 pop을 사용\n",
    "test_stack.pop()"
   ]
  },
  {
   "cell_type": "code",
   "execution_count": 7,
   "id": "803c21fc",
   "metadata": {},
   "outputs": [],
   "source": [
    "test_stack.push(10)"
   ]
  },
  {
   "cell_type": "code",
   "execution_count": 8,
   "id": "df4c7025",
   "metadata": {},
   "outputs": [],
   "source": [
    "test_stack.push(20)"
   ]
  },
  {
   "cell_type": "code",
   "execution_count": 9,
   "id": "e2e64ca9",
   "metadata": {},
   "outputs": [
    {
     "name": "stdout",
     "output_type": "stream",
     "text": [
      "[10, 20]\n"
     ]
    }
   ],
   "source": [
    "test_stack.dump()"
   ]
  },
  {
   "cell_type": "code",
   "execution_count": 10,
   "id": "c9fdd126",
   "metadata": {},
   "outputs": [
    {
     "data": {
      "text/plain": [
       "20"
      ]
     },
     "execution_count": 10,
     "metadata": {},
     "output_type": "execute_result"
    }
   ],
   "source": [
    "test_stack.pop()"
   ]
  },
  {
   "cell_type": "code",
   "execution_count": 11,
   "id": "18d2f505",
   "metadata": {},
   "outputs": [
    {
     "name": "stdout",
     "output_type": "stream",
     "text": [
      "[10]\n"
     ]
    }
   ],
   "source": [
    "test_stack.dump()"
   ]
  },
  {
   "cell_type": "code",
   "execution_count": null,
   "id": "9ae23643",
   "metadata": {},
   "outputs": [],
   "source": [
    "test_stack.stk"
   ]
  },
  {
   "cell_type": "code",
   "execution_count": 13,
   "id": "cb8b5235",
   "metadata": {},
   "outputs": [
    {
     "data": {
      "text/plain": [
       "1"
      ]
     },
     "execution_count": 13,
     "metadata": {},
     "output_type": "execute_result"
    }
   ],
   "source": [
    "test_stack.ptr"
   ]
  }
 ],
 "metadata": {
  "kernelspec": {
   "display_name": "Python 3",
   "language": "python",
   "name": "python3"
  },
  "language_info": {
   "codemirror_mode": {
    "name": "ipython",
    "version": 3
   },
   "file_extension": ".py",
   "mimetype": "text/x-python",
   "name": "python",
   "nbconvert_exporter": "python",
   "pygments_lexer": "ipython3",
   "version": "3.11.1"
  }
 },
 "nbformat": 4,
 "nbformat_minor": 5
}
