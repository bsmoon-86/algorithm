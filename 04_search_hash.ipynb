{
 "cells": [
  {
   "cell_type": "markdown",
   "id": "c6cbf078",
   "metadata": {},
   "source": [
    "# 해시법\n",
    "- 데이터를 저장할 위치 = 인덱스를 간단한 연산으로 구하는것 \n",
    "- 원소의 검색 뿐 만이 아니라 추가, 삭제도 효율적으로 작업이 가능 \n",
    "- 특정한 규칙을 이용하여 인덱스의 값을 설정하는 것을 해시값\n",
    "    - 예시) 길이가 13인 배열을 생성하는 경우 키 값과 13을 나눈 나머지의 값을 해시값으로 지정하고 인덱스를 해시값으로 지정\n",
    "- 같은 인덱스에 데이터를 대입(추가)를 하는 경우에 충돌이 발생 이러한 상황을 해시충돌\n",
    "- 해치 충돌을 대체하는 방법 \n",
    "    - 체인법 \n",
    "        - 해시값이 같은 원소를 연결 리스트로 관리 \n",
    "    - 오픈 주소법\n",
    "        - 빈 버킷을 찾을때까지 해시를 반복\n",
    "        - 빈 버킷이 존재하지 않으면 데이터를 대입하지 않는다. "
   ]
  },
  {
   "cell_type": "code",
   "execution_count": null,
   "id": "3ac55566",
   "metadata": {},
   "outputs": [],
   "source": [
    "# 연결 리스트를 생성하는 Class를 선언\n",
    "from typing import Any\n",
    "import hashlib"
   ]
  },
  {
   "cell_type": "code",
   "execution_count": null,
   "id": "ae087aa9",
   "metadata": {},
   "outputs": [],
   "source": [
    "class Node:\n",
    "    # 생성자 함수 : 초기화 함수라고도 부르고 class가 생성될때 단한번만 실행이 되는 함수 \n",
    "    def __init__(self, key : Any, value : Any, next : \"Node\") -> None:\n",
    "        # 데이터의 키값\n",
    "        self.key = key\n",
    "        # 데이터의 벨류값\n",
    "        self.value = value\n",
    "        # 데이터의 뒤쪽 노드 \n",
    "        self.next = next"
   ]
  },
  {
   "cell_type": "code",
   "execution_count": null,
   "id": "6d8b5416",
   "metadata": {},
   "outputs": [],
   "source": [
    "# 체인 생성 샘플 확인\n",
    "n3 = Node('A', 100, next = None)\n",
    "n2 = Node('B', 200, next = n3)\n",
    "n1 = Node('C', 300, next = n2)\n",
    "# n1 class 뒤에는 n2 class가 그 뒤에는 n3 class가 존재한다. \n",
    "n0 = Node('D', 400, next = None)\n",
    "# n0 class 뒤에는 아무런 데이터가 존재하지 않는다. \n",
    "p = n1\n",
    "print('n1 class의 연결 리스트는')\n",
    "while p:\n",
    "    print(f\"{p.key} : {p.value}\")\n",
    "    p = p.next\n",
    "print()\n",
    "p0 = n0\n",
    "print('n0 class의 연결 리스트는')\n",
    "while p0:\n",
    "    print(f'{p0.key} : {p0.value}')\n",
    "    p0 = p0.next"
   ]
  },
  {
   "cell_type": "code",
   "execution_count": null,
   "id": "4c37ba39",
   "metadata": {},
   "outputs": [],
   "source": [
    "# 체인 해시 클래스를 선언\n",
    "class ChainHash:\n",
    "\n",
    "    # 생성자 함수 \n",
    "    def __init__(self, capacity : int) -> None:\n",
    "        # 해시 테이블의 크기를 지정 \n",
    "        self.capacity = capacity\n",
    "        # 해시 테이블의 크기만큼의 길이가 고정된 리스트 데이터를 생성 \n",
    "        self.table = [None] * self.capacity\n",
    "\n",
    "    # 해시값을 생성하는 함수\n",
    "    def hash_value(self, key : Any) -> int:\n",
    "        # key 값으로 들어오는 데이터가 숫자의 형태라면\n",
    "        if isinstance(key, int):\n",
    "        # if type(key) == 'int'\n",
    "            return key % self.capacity\n",
    "        # key가 숫자가 아니라면\n",
    "        return(\n",
    "            int(\n",
    "                hashlib.sha256(str(key).encode()).hexdigest()  # sha256은 문자 데이터를 16진수 형태의 데이터로 변환\n",
    "                , 16    # 16진수 데이터를 10진수 데이터로 변환\n",
    "            ) % self.capacity\n",
    "        )\n",
    "    # table에서 데이터를 검색하는 함수\n",
    "    def search(self, key : Any) -> Any:\n",
    "        # key 값을 hash 데이터로 변경 \n",
    "        hash = self.hash_value(key)\n",
    "        # 체인으로 연결되어있는 Node\n",
    "        p = self.table[hash]\n",
    "\n",
    "        while p:\n",
    "            if p.key == key:\n",
    "                # 검색을 성공했을때 해당하는 Node의 value를 출력력\n",
    "                return p.value\n",
    "            # 검색이 실패하는 경우에는 다음 Node로 이동\n",
    "            p = p.next\n",
    "        # 해당 인덱스에서 key가 존재하지 않는다면 \n",
    "        return None\n",
    "    \n",
    "    # 데이터를 추가하는 함수 \n",
    "    def add(self, key : Any, value : Any) -> bool:\n",
    "        # key값을 hash로 변경 \n",
    "        hash = self.hash_value(key)\n",
    "        p = self.table[hash]\n",
    "\n",
    "        while p is not None:\n",
    "            if p.key == key:\n",
    "                # 해당하는 키값에 데이터가 존재한다면 추가가 안되는 형태로 구현 \n",
    "                return False\n",
    "            p = p.next\n",
    "        \n",
    "        # 위의 반복문이 종료할때까지 False 데이터를 되돌려주지 않는다면 Node를 생성\n",
    "        temp = Node(key, value, self.table[hash])\n",
    "        # Node를 table의 특정 인덱스에 대입 \n",
    "        self.table[hash] = temp\n",
    "        return True\n",
    "\n",
    "    # 데이터를 삭제하는 함수 \n",
    "    def remove(self, key : Any) -> bool:\n",
    "        hash = self.hash_value(key)\n",
    "        # 주목하고 있는 노드 \n",
    "        p = self.table[hash]\n",
    "        # 주목 노드의 바로 앞의 노드  \n",
    "        pp = None\n",
    "\n",
    "        while p is not None:\n",
    "            if p.key == key:\n",
    "                if pp is None:\n",
    "                    self.table[hash] = p.next\n",
    "                else:\n",
    "                    pp.next = p.next\n",
    "                return True\n",
    "            pp = p\n",
    "            p = p.next\n",
    "        return False\n",
    "    # 전체 데이터를 확인하는 함수\n",
    "    def dump(self) -> None:\n",
    "        for i in range(self.capacity):\n",
    "            p = self.table[i]\n",
    "            print(i, end = ' ')\n",
    "            while p is not None:\n",
    "                # 해시 테이블에 존재하는 노드의 key와 value를 출력\n",
    "                print(f\" -> {p.key} : {p.value}\", end= '')\n",
    "                p = p.next\n",
    "            print()\n"
   ]
  },
  {
   "cell_type": "code",
   "execution_count": null,
   "id": "9353ed13",
   "metadata": {},
   "outputs": [],
   "source": [
    "# 특정 길이의 해시 테이블을 생성 -> Class 생성\n",
    "hash = ChainHash(13)"
   ]
  },
  {
   "cell_type": "code",
   "execution_count": null,
   "id": "f171ca0e",
   "metadata": {},
   "outputs": [],
   "source": [
    "# 데이터를 확인 \n",
    "hash.dump()"
   ]
  },
  {
   "cell_type": "code",
   "execution_count": null,
   "id": "b7c52c5f",
   "metadata": {},
   "outputs": [],
   "source": [
    "# 데이터를 추가 (hash는 key값에 13으로 나눈 나머지 값 -> 1이라는 인덱스에 데이터가 대입 )\n",
    "hash.add(1, 'A')"
   ]
  },
  {
   "cell_type": "code",
   "execution_count": 13,
   "id": "80053555",
   "metadata": {},
   "outputs": [
    {
     "name": "stdout",
     "output_type": "stream",
     "text": [
      "0 \n",
      "1  -> 1 : A\n",
      "2 \n",
      "3 \n",
      "4 \n",
      "5 \n",
      "6 \n",
      "7 \n",
      "8 \n",
      "9 \n",
      "10 \n",
      "11 \n",
      "12 \n"
     ]
    }
   ],
   "source": [
    "hash.dump()"
   ]
  },
  {
   "cell_type": "code",
   "execution_count": 14,
   "id": "7997418c",
   "metadata": {},
   "outputs": [
    {
     "data": {
      "text/plain": [
       "True"
      ]
     },
     "execution_count": 14,
     "metadata": {},
     "output_type": "execute_result"
    }
   ],
   "source": [
    "# 해시값이 1이 되는 key값을 사용\n",
    "hash.add(14, 'D')"
   ]
  },
  {
   "cell_type": "code",
   "execution_count": 18,
   "id": "910c9a7d",
   "metadata": {},
   "outputs": [
    {
     "name": "stdout",
     "output_type": "stream",
     "text": [
      "0 \n",
      "1  -> 14 : D -> 1 : A\n",
      "2 \n",
      "3 \n",
      "4 \n",
      "5 \n",
      "6 \n",
      "7 \n",
      "8 \n",
      "9 \n",
      "10 \n",
      "11 \n",
      "12 \n"
     ]
    }
   ],
   "source": [
    "hash.dump()"
   ]
  },
  {
   "cell_type": "code",
   "execution_count": 19,
   "id": "14980aa4",
   "metadata": {},
   "outputs": [
    {
     "data": {
      "text/plain": [
       "'A'"
      ]
     },
     "execution_count": 19,
     "metadata": {},
     "output_type": "execute_result"
    }
   ],
   "source": [
    "# 데이터를 검색 \n",
    "hash.search(1)"
   ]
  },
  {
   "cell_type": "code",
   "execution_count": 20,
   "id": "c1e2cf54",
   "metadata": {},
   "outputs": [
    {
     "data": {
      "text/plain": [
       "True"
      ]
     },
     "execution_count": 20,
     "metadata": {},
     "output_type": "execute_result"
    }
   ],
   "source": [
    "# 데이터를 제거 \n",
    "hash.remove(1)"
   ]
  },
  {
   "cell_type": "code",
   "execution_count": null,
   "id": "5bfa8c56",
   "metadata": {},
   "outputs": [],
   "source": [
    "hash.dump()"
   ]
  },
  {
   "cell_type": "code",
   "execution_count": 22,
   "id": "4b992896",
   "metadata": {},
   "outputs": [],
   "source": [
    "hash2 = ChainHash(10)"
   ]
  },
  {
   "cell_type": "code",
   "execution_count": 23,
   "id": "5390b180",
   "metadata": {},
   "outputs": [],
   "source": [
    "from random import randint"
   ]
  },
  {
   "cell_type": "code",
   "execution_count": 26,
   "id": "b908d171",
   "metadata": {},
   "outputs": [],
   "source": [
    "for i in range(50):\n",
    "    hash2.add(i, randint(1, 500))"
   ]
  },
  {
   "cell_type": "code",
   "execution_count": 27,
   "id": "369094bb",
   "metadata": {},
   "outputs": [
    {
     "name": "stdout",
     "output_type": "stream",
     "text": [
      "0  -> 40 : 145 -> 30 : 486 -> 20 : 402 -> 10 : 111 -> 0 : 14\n",
      "1  -> 41 : 26 -> 31 : 470 -> 21 : 64 -> 11 : 400 -> 1 : 342\n",
      "2  -> 42 : 128 -> 32 : 23 -> 22 : 132 -> 12 : 499 -> 2 : 20\n",
      "3  -> 43 : 23 -> 33 : 368 -> 23 : 56 -> 13 : 44 -> 3 : 397\n",
      "4  -> 44 : 371 -> 34 : 343 -> 24 : 191 -> 14 : 298 -> 4 : 378\n",
      "5  -> 45 : 467 -> 35 : 64 -> 25 : 250 -> 15 : 407 -> 5 : 281\n",
      "6  -> 46 : 232 -> 36 : 454 -> 26 : 432 -> 16 : 118 -> 6 : 331\n",
      "7  -> 47 : 389 -> 37 : 341 -> 27 : 276 -> 17 : 447 -> 7 : 263\n",
      "8  -> 48 : 40 -> 38 : 363 -> 28 : 88 -> 18 : 435 -> 8 : 333\n",
      "9  -> 49 : 478 -> 39 : 329 -> 29 : 131 -> 19 : 246 -> 9 : 298\n"
     ]
    }
   ],
   "source": [
    "hash2.dump()"
   ]
  },
  {
   "cell_type": "code",
   "execution_count": 28,
   "id": "cd62c820",
   "metadata": {},
   "outputs": [
    {
     "data": {
      "text/plain": [
       "True"
      ]
     },
     "execution_count": 28,
     "metadata": {},
     "output_type": "execute_result"
    }
   ],
   "source": [
    "# key 값이 문제형 데이터인 경우 \n",
    "hash2.add('a', 'test_data')"
   ]
  },
  {
   "cell_type": "code",
   "execution_count": 29,
   "id": "916d8081",
   "metadata": {},
   "outputs": [
    {
     "name": "stdout",
     "output_type": "stream",
     "text": [
      "0  -> 40 : 145 -> 30 : 486 -> 20 : 402 -> 10 : 111 -> 0 : 14\n",
      "1  -> 41 : 26 -> 31 : 470 -> 21 : 64 -> 11 : 400 -> 1 : 342\n",
      "2  -> 42 : 128 -> 32 : 23 -> 22 : 132 -> 12 : 499 -> 2 : 20\n",
      "3  -> 43 : 23 -> 33 : 368 -> 23 : 56 -> 13 : 44 -> 3 : 397\n",
      "4  -> 44 : 371 -> 34 : 343 -> 24 : 191 -> 14 : 298 -> 4 : 378\n",
      "5  -> 45 : 467 -> 35 : 64 -> 25 : 250 -> 15 : 407 -> 5 : 281\n",
      "6  -> 46 : 232 -> 36 : 454 -> 26 : 432 -> 16 : 118 -> 6 : 331\n",
      "7  -> 47 : 389 -> 37 : 341 -> 27 : 276 -> 17 : 447 -> 7 : 263\n",
      "8  -> 48 : 40 -> 38 : 363 -> 28 : 88 -> 18 : 435 -> 8 : 333\n",
      "9  -> a : test_data -> 49 : 478 -> 39 : 329 -> 29 : 131 -> 19 : 246 -> 9 : 298\n"
     ]
    }
   ],
   "source": [
    "hash2.dump()"
   ]
  },
  {
   "cell_type": "code",
   "execution_count": 31,
   "id": "e493bc01",
   "metadata": {},
   "outputs": [],
   "source": [
    "hash2.search('b')"
   ]
  },
  {
   "cell_type": "markdown",
   "id": "7082e439",
   "metadata": {},
   "source": [
    "### 오픈 주소법"
   ]
  },
  {
   "cell_type": "code",
   "execution_count": 32,
   "id": "2f63bc00",
   "metadata": {},
   "outputs": [],
   "source": [
    "from enum import Enum\n",
    "# 의미가 있는 상수 집합을 정의할 때 사용\n",
    "Menu = Enum('Menu', ['추가', '삭제', '검색', '덤프'])"
   ]
  },
  {
   "cell_type": "code",
   "execution_count": 36,
   "id": "446cb53e",
   "metadata": {},
   "outputs": [
    {
     "data": {
      "text/plain": [
       "False"
      ]
     },
     "execution_count": 36,
     "metadata": {},
     "output_type": "execute_result"
    }
   ],
   "source": [
    "Menu(1) == Menu.삭제"
   ]
  },
  {
   "cell_type": "code",
   "execution_count": null,
   "id": "6145a544",
   "metadata": {},
   "outputs": [],
   "source": [
    "# 상속? -> 부모 클래스에 있는 기능(함수, 변수)을 자식 클래스에서 사용하도록 하는 기능\n",
    "# 상태를 나타내는 클래스\n",
    "class Status(Enum):\n",
    "    OCCUPIED = 0\n",
    "    EMPTY = 1\n",
    "    DELETED = 2\n",
    "\n",
    "class Bucket:\n",
    "\n",
    "    def __init__(self, key : Any = None, value : Any = None, stat : \"Status\" = Status.EMPTY):\n",
    "        self.key = key\n",
    "        self.value = value\n",
    "        self.stat = stat\n",
    "    \n",
    "    # 필드에 데이터를 대입\n",
    "    def set(self, key : Any, value : Any, stat : \"Status\"):\n",
    "        self.key = key\n",
    "        self.value = value\n",
    "        self.stat = stat\n",
    "\n",
    "    # 버킷의 상태를 변경하는 함수 \n",
    "    def set_status(self, stat : \"Status\"):\n",
    "        self.stat = stat\n",
    "# 오픈 주소법 class 선언\n",
    "class OpenHash : \n",
    "    def __init__(self, capacity : int) -> None:\n",
    "        self.capacity = capacity\n",
    "        # Bucket의 생성자 함수는 key, value는 None stat는 Status.EMPTY로 지정하여 크기만큼 배열을 생성\n",
    "        self.table = [Bucket()] * self.capacity\n",
    "\n",
    "    def hash_value(self, key : Any) -> int:\n",
    "        if isinstance(key, int):\n",
    "            return key % self.capacity\n",
    "        return(\n",
    "            int(\n",
    "                hashlib.sha256( str(key).encode() ).hexdigest(), 16\n",
    "            ) % self.capacity\n",
    "        )\n",
    "    # 재해시값을 생성하는 함수 : hash 데이터에 + 1\n",
    "    def refresh_hash(self, key : Any) -> int:\n",
    "        return( self.hash_value(key) + 1 )\n",
    "\n",
    "    def search_node(self, key : Any) -> Any:\n",
    "        hash = self.hash_value(key)\n",
    "        p = self.table[hash]\n",
    "        \n",
    "        for i in range(self.capacity):\n",
    "            if p.stat == Status.EMPTY:\n",
    "                break\n",
    "            elif p.stat == Status.OCCUPIED and p.key == key:\n",
    "                return p\n",
    "            # 해시를 재지정\n",
    "            hash = self.refresh_hash(hash) # hash에 + 1을 한다. \n",
    "            p = self.table[hash]\n",
    "        return None\n",
    "    \n",
    "    def search(self, key : Any) -> Any:\n",
    "        p = self.search_node(key)\n",
    "        if p is not None:\n",
    "            # 검색이 성공했을때\n",
    "            return p.value\n",
    "        else:\n",
    "            return None\n",
    "    \n",
    "    # 데이터를 추가하는 함수\n",
    "    def add(self, key : Any, value : Any) -> bool:\n",
    "        # key가 등록되어있는가? 확인\n",
    "        if self.search(key) is not None:\n",
    "            # 해당하는 key가 존재한다 -> 데이터를 대입하지 않는다.\n",
    "            return False\n",
    "\n",
    "        hash = self.hash_value(key)\n",
    "        p = self.table[hash]\n",
    "        for i in range(self.capacity):\n",
    "            if p.stat == Status.EMPTY or p.stat == Status.DELETED:\n",
    "                # 버킷의 상태가 비어있거나 삭제가 된 경우\n",
    "                # 데이터를 대입 (Bucket의 형태로)\n",
    "                self.table[hash] = Bucket(key, value, Status.OCCUPIED)\n",
    "                return True\n",
    "            hash = self.refrsh_hash(hash)\n",
    "            p = self.table[hash]\n",
    "        return False\n",
    "    # 데이터를 제거하는 함수 \n",
    "    def remove(self, key : Any) -> bool:\n",
    "        \n",
    "\n",
    "\n"
   ]
  }
 ],
 "metadata": {
  "kernelspec": {
   "display_name": "Python 3",
   "language": "python",
   "name": "python3"
  },
  "language_info": {
   "codemirror_mode": {
    "name": "ipython",
    "version": 3
   },
   "file_extension": ".py",
   "mimetype": "text/x-python",
   "name": "python",
   "nbconvert_exporter": "python",
   "pygments_lexer": "ipython3",
   "version": "3.11.1"
  }
 },
 "nbformat": 4,
 "nbformat_minor": 5
}
